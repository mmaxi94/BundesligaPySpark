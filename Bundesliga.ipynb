{
 "cells": [
  {
   "cell_type": "code",
   "execution_count": 1,
   "id": "5c00a0d5-191e-4f74-916c-dfe61ed6b984",
   "metadata": {
    "tags": []
   },
   "outputs": [],
   "source": [
    "import pyspark\n",
    "from pyspark import SparkContext\n",
    "from pyspark.sql import SparkSession, Window\n",
    "from pyspark.sql.functions import *\n",
    "from pyspark.sql.types import *\n",
    "\n"
   ]
  },
  {
   "cell_type": "code",
   "execution_count": 2,
   "id": "88e057c9-a137-488e-8b29-52f1e422ebf2",
   "metadata": {
    "tags": []
   },
   "outputs": [],
   "source": [
    "spark = SparkSession.builder.master(\"local[1]\").appName('Bundesliga').getOrCreate()"
   ]
  },
  {
   "cell_type": "code",
   "execution_count": 3,
   "id": "6621df44-00d2-410e-8f73-ad8ad69159b8",
   "metadata": {
    "tags": []
   },
   "outputs": [
    {
     "name": "stdout",
     "output_type": "stream",
     "text": [
      "root\n",
      " |-- Match_ID: string (nullable = true)\n",
      " |-- Div: string (nullable = true)\n",
      " |-- Season: string (nullable = true)\n",
      " |-- Date: string (nullable = true)\n",
      " |-- HomeTeam: string (nullable = true)\n",
      " |-- AwayTeam: string (nullable = true)\n",
      " |-- FTHG: string (nullable = true)\n",
      " |-- FTAG: string (nullable = true)\n",
      " |-- FTR: string (nullable = true)\n",
      "\n",
      "+--------+---+------+----------+-------------+--------------+----+----+---+\n",
      "|Match_ID|Div|Season|      Date|     HomeTeam|      AwayTeam|FTHG|FTAG|FTR|\n",
      "+--------+---+------+----------+-------------+--------------+----+----+---+\n",
      "|       1| D2|  2009|2010-04-04|   Oberhausen|Kaiserslautern|   2|   1|  H|\n",
      "|       2| D2|  2009|2009-11-01|  Munich 1860|Kaiserslautern|   0|   1|  A|\n",
      "|       3| D2|  2009|2009-10-04|Frankfurt FSV|Kaiserslautern|   1|   1|  D|\n",
      "|       4| D2|  2009|2010-02-21|Frankfurt FSV|     Karlsruhe|   2|   1|  H|\n",
      "|       5| D2|  2009|2009-12-06|        Ahlen|     Karlsruhe|   1|   3|  A|\n",
      "+--------+---+------+----------+-------------+--------------+----+----+---+\n",
      "\n"
     ]
    }
   ],
   "source": [
    "def cargar_dataframe(filename):\n",
    "    df = spark.read.format('csv').options(header='True', delimiter=',').load(filename)\n",
    "    return df\n",
    "\n",
    "df_matches = cargar_dataframe('./Proyecto_Bundesliga/Matches.csv')\n",
    "df_matches.printSchema()\n",
    "df_matches.limit(5).show()"
   ]
  },
  {
   "cell_type": "markdown",
   "id": "89a064e2-f14a-404a-81e8-99ccaab9b1a8",
   "metadata": {},
   "source": [
    "### renombro columnas para una mayor comprension del dataset"
   ]
  },
  {
   "cell_type": "code",
   "execution_count": 4,
   "id": "54ecc713-cde8-4574-81fd-860b91ebfaf1",
   "metadata": {
    "tags": []
   },
   "outputs": [
    {
     "data": {
      "text/html": [
       "<div>\n",
       "<style scoped>\n",
       "    .dataframe tbody tr th:only-of-type {\n",
       "        vertical-align: middle;\n",
       "    }\n",
       "\n",
       "    .dataframe tbody tr th {\n",
       "        vertical-align: top;\n",
       "    }\n",
       "\n",
       "    .dataframe thead th {\n",
       "        text-align: right;\n",
       "    }\n",
       "</style>\n",
       "<table border=\"1\" class=\"dataframe\">\n",
       "  <thead>\n",
       "    <tr style=\"text-align: right;\">\n",
       "      <th></th>\n",
       "      <th>Match_ID</th>\n",
       "      <th>Division</th>\n",
       "      <th>Temporada</th>\n",
       "      <th>Fecha</th>\n",
       "      <th>Local</th>\n",
       "      <th>Visitante</th>\n",
       "      <th>GolesLocal</th>\n",
       "      <th>GolesVistante</th>\n",
       "      <th>Resultado</th>\n",
       "    </tr>\n",
       "  </thead>\n",
       "  <tbody>\n",
       "    <tr>\n",
       "      <th>0</th>\n",
       "      <td>1</td>\n",
       "      <td>D2</td>\n",
       "      <td>2009</td>\n",
       "      <td>2010-04-04</td>\n",
       "      <td>Oberhausen</td>\n",
       "      <td>Kaiserslautern</td>\n",
       "      <td>2</td>\n",
       "      <td>1</td>\n",
       "      <td>H</td>\n",
       "    </tr>\n",
       "    <tr>\n",
       "      <th>1</th>\n",
       "      <td>2</td>\n",
       "      <td>D2</td>\n",
       "      <td>2009</td>\n",
       "      <td>2009-11-01</td>\n",
       "      <td>Munich 1860</td>\n",
       "      <td>Kaiserslautern</td>\n",
       "      <td>0</td>\n",
       "      <td>1</td>\n",
       "      <td>A</td>\n",
       "    </tr>\n",
       "    <tr>\n",
       "      <th>2</th>\n",
       "      <td>3</td>\n",
       "      <td>D2</td>\n",
       "      <td>2009</td>\n",
       "      <td>2009-10-04</td>\n",
       "      <td>Frankfurt FSV</td>\n",
       "      <td>Kaiserslautern</td>\n",
       "      <td>1</td>\n",
       "      <td>1</td>\n",
       "      <td>D</td>\n",
       "    </tr>\n",
       "    <tr>\n",
       "      <th>3</th>\n",
       "      <td>4</td>\n",
       "      <td>D2</td>\n",
       "      <td>2009</td>\n",
       "      <td>2010-02-21</td>\n",
       "      <td>Frankfurt FSV</td>\n",
       "      <td>Karlsruhe</td>\n",
       "      <td>2</td>\n",
       "      <td>1</td>\n",
       "      <td>H</td>\n",
       "    </tr>\n",
       "    <tr>\n",
       "      <th>4</th>\n",
       "      <td>5</td>\n",
       "      <td>D2</td>\n",
       "      <td>2009</td>\n",
       "      <td>2009-12-06</td>\n",
       "      <td>Ahlen</td>\n",
       "      <td>Karlsruhe</td>\n",
       "      <td>1</td>\n",
       "      <td>3</td>\n",
       "      <td>A</td>\n",
       "    </tr>\n",
       "  </tbody>\n",
       "</table>\n",
       "</div>"
      ],
      "text/plain": [
       "  Match_ID Division Temporada       Fecha          Local       Visitante  \\\n",
       "0        1       D2      2009  2010-04-04     Oberhausen  Kaiserslautern   \n",
       "1        2       D2      2009  2009-11-01    Munich 1860  Kaiserslautern   \n",
       "2        3       D2      2009  2009-10-04  Frankfurt FSV  Kaiserslautern   \n",
       "3        4       D2      2009  2010-02-21  Frankfurt FSV       Karlsruhe   \n",
       "4        5       D2      2009  2009-12-06          Ahlen       Karlsruhe   \n",
       "\n",
       "  GolesLocal GolesVistante Resultado  \n",
       "0          2             1         H  \n",
       "1          0             1         A  \n",
       "2          1             1         D  \n",
       "3          2             1         H  \n",
       "4          1             3         A  "
      ]
     },
     "execution_count": 4,
     "metadata": {},
     "output_type": "execute_result"
    }
   ],
   "source": [
    "df_matches = df_matches.withColumnRenamed(\"Div\",\"Division\") \\\n",
    "            .withColumnRenamed(\"Season\",\"Temporada\") \\\n",
    "            .withColumnRenamed(\"Date\",\"Fecha\") \\\n",
    "            .withColumnRenamed(\"HomeTeam\",\"Local\") \\\n",
    "            .withColumnRenamed(\"AwayTeam\",\"Visitante\") \\\n",
    "            .withColumnRenamed(\"FTHG\",\"GolesLocal\") \\\n",
    "            .withColumnRenamed(\"FTAG\",\"GolesVistante\") \\\n",
    "            .withColumnRenamed(\"FTR\",\"Resultado\")\n",
    "\n",
    "df_matches.limit(5).toPandas()"
   ]
  },
  {
   "cell_type": "markdown",
   "id": "9d094438-324c-41cf-a711-756266a32047",
   "metadata": {},
   "source": [
    "# Ganadores de la Bundesliga Primera Division entre el año 2000 y 2010"
   ]
  },
  {
   "cell_type": "markdown",
   "id": "4d42e0eb-1a9a-43da-8a50-cabbdeb93c43",
   "metadata": {},
   "source": [
    "### Comienzo filtrando por el año a buscar y primera division para reducir el tamaño del dataset con el que voy a trabajar"
   ]
  },
  {
   "cell_type": "code",
   "execution_count": 5,
   "id": "e2b44132-502f-4d62-8343-c50665f9f27a",
   "metadata": {
    "tags": []
   },
   "outputs": [
    {
     "name": "stdout",
     "output_type": "stream",
     "text": [
      "+--------+--------+---------+----------+-------------+----------+----------+-------------+---------+\n",
      "|Match_ID|Division|Temporada|     Fecha|        Local| Visitante|GolesLocal|GolesVistante|Resultado|\n",
      "+--------+--------+---------+----------+-------------+----------+----------+-------------+---------+\n",
      "|      21|      D1|     2009|2010-02-06|       Bochum|Leverkusen|         1|            1|        D|\n",
      "|      22|      D1|     2009|2009-11-22|Bayern Munich|Leverkusen|         1|            1|        D|\n",
      "|      23|      D1|     2009|2010-05-08|   M'gladbach|Leverkusen|         1|            1|        D|\n",
      "|      24|      D1|     2009|2009-08-08|        Mainz|Leverkusen|         2|            2|        D|\n",
      "|      25|      D1|     2009|2009-10-17|      Hamburg|Leverkusen|         0|            0|        D|\n",
      "+--------+--------+---------+----------+-------------+----------+----------+-------------+---------+\n",
      "only showing top 5 rows\n",
      "\n"
     ]
    }
   ],
   "source": [
    "df_matches_2 = df_matches.filter( (col(\"Temporada\") >= 2000) & (col(\"Temporada\") <= 2010) & (col(\"Division\") == \"D1\") )\n",
    "df_matches_2.show(5)\n"
   ]
  },
  {
   "cell_type": "markdown",
   "id": "8e181e38-cf0c-4ff9-9c37-715f26a17d14",
   "metadata": {},
   "source": [
    "### Calculo el puntaje en cada partido por equipo"
   ]
  },
  {
   "cell_type": "code",
   "execution_count": 6,
   "id": "7e493139-fc0b-451e-9775-78c7e7d22afe",
   "metadata": {
    "tags": []
   },
   "outputs": [
    {
     "name": "stdout",
     "output_type": "stream",
     "text": [
      "+--------+--------+---------+----------+-------------+----------+----------+-------------+---------+-----------+---------------+\n",
      "|Match_ID|Division|Temporada|     Fecha|        Local| Visitante|GolesLocal|GolesVistante|Resultado|PuntosLocal|PuntosVisitante|\n",
      "+--------+--------+---------+----------+-------------+----------+----------+-------------+---------+-----------+---------------+\n",
      "|      21|      D1|     2009|2010-02-06|       Bochum|Leverkusen|         1|            1|        D|          1|              1|\n",
      "|      22|      D1|     2009|2009-11-22|Bayern Munich|Leverkusen|         1|            1|        D|          1|              1|\n",
      "|      23|      D1|     2009|2010-05-08|   M'gladbach|Leverkusen|         1|            1|        D|          1|              1|\n",
      "|      24|      D1|     2009|2009-08-08|        Mainz|Leverkusen|         2|            2|        D|          1|              1|\n",
      "|      25|      D1|     2009|2009-10-17|      Hamburg|Leverkusen|         0|            0|        D|          1|              1|\n",
      "+--------+--------+---------+----------+-------------+----------+----------+-------------+---------+-----------+---------------+\n",
      "only showing top 5 rows\n",
      "\n"
     ]
    }
   ],
   "source": [
    "df_matches_2 = df_matches_2.withColumn(\"PuntosLocal\", when(col(\"Resultado\") == \"H\",3).when(col(\"Resultado\") == \"D\",1).when(col(\"Resultado\") == \"A\",0) ) \\\n",
    "            .withColumn(\"PuntosVisitante\", when(col(\"Resultado\") == \"H\",0).when(col(\"Resultado\") == \"D\",1).when(col(\"Resultado\") == \"A\",3) )\n",
    "\n",
    "df_matches_2.show(5)"
   ]
  },
  {
   "cell_type": "markdown",
   "id": "0d9cef31-722c-4f7f-98e2-35a064e2b56f",
   "metadata": {},
   "source": [
    "### Acumulo los puntajes por equipo en cada temporada tanto de local como visitante para luego sumarlos entre si"
   ]
  },
  {
   "cell_type": "code",
   "execution_count": 7,
   "id": "002a5dd3-e5c7-401e-be58-4667322dbf9f",
   "metadata": {
    "tags": []
   },
   "outputs": [
    {
     "name": "stdout",
     "output_type": "stream",
     "text": [
      "+---------+-------------+----------------+\n",
      "|Temporada|        Local|puntajeAcumulado|\n",
      "+---------+-------------+----------------+\n",
      "|     2000|  Munich 1860|              27|\n",
      "|     2000|Ein Frankfurt|              27|\n",
      "|     2000|      Hamburg|              30|\n",
      "|     2000|Hansa Rostock|              29|\n",
      "|     2000|       Bochum|              19|\n",
      "+---------+-------------+----------------+\n",
      "only showing top 5 rows\n",
      "\n",
      "+---------+-------------+----------------+\n",
      "|Temporada|    Visitante|puntajeAcumulado|\n",
      "+---------+-------------+----------------+\n",
      "|     2000|  Munich 1860|              17|\n",
      "|     2000|Ein Frankfurt|               8|\n",
      "|     2000|      Hamburg|              11|\n",
      "|     2000|Hansa Rostock|              14|\n",
      "|     2000|       Bochum|               8|\n",
      "+---------+-------------+----------------+\n",
      "only showing top 5 rows\n",
      "\n"
     ]
    }
   ],
   "source": [
    "df_local_matches = df_matches_2.groupBy(\"Temporada\",\"Local\").agg(sum(\"PuntosLocal\").alias(\"puntajeAcumulado\")).sort(asc(\"Temporada\"))\n",
    "df_local_matches.show(5)\n",
    "\n",
    "df_local_visitante = df_matches_2.groupBy(\"Temporada\",\"Visitante\").agg(sum(\"PuntosVisitante\").alias(\"puntajeAcumulado\")).sort(asc(\"Temporada\"))\n",
    "df_local_visitante.show(5)"
   ]
  },
  {
   "cell_type": "markdown",
   "id": "63226b67-3c60-496e-b522-f2ec28bfef34",
   "metadata": {},
   "source": [
    "### obtengo el acumulado de puntos por equipo en cada temporada"
   ]
  },
  {
   "cell_type": "code",
   "execution_count": 8,
   "id": "b7348a07-afb0-4a95-9a60-44033cbab8e9",
   "metadata": {
    "tags": []
   },
   "outputs": [
    {
     "name": "stdout",
     "output_type": "stream",
     "text": [
      "+---------+--------------+------------+\n",
      "|Temporada|         Local|puntajeTotal|\n",
      "+---------+--------------+------------+\n",
      "|     2005|Kaiserslautern|          33|\n",
      "|     2006|       Cottbus|          41|\n",
      "|     2001|      St Pauli|          22|\n",
      "|     2005|         Mainz|          38|\n",
      "|     2006|       Hamburg|          45|\n",
      "+---------+--------------+------------+\n",
      "only showing top 5 rows\n",
      "\n"
     ]
    }
   ],
   "source": [
    "df_join = df_local_matches.join(df_local_visitante, \n",
    "                      (df_local_matches.Local == df_local_visitante.Visitante) & \n",
    "                      (df_local_matches.Temporada == df_local_visitante.Temporada), \"inner\") \\\n",
    "                    .withColumn(\"puntajeTotal\",df_local_matches.puntajeAcumulado+df_local_visitante.puntajeAcumulado) \\\n",
    "                    .select(df_local_matches[\"Temporada\"],\"Local\",\"puntajeTotal\")\n",
    "\n",
    "df_join.show(5)"
   ]
  },
  {
   "cell_type": "markdown",
   "id": "e6d8c6d7-2ec9-428a-8a3d-128925e7a050",
   "metadata": {},
   "source": [
    "### particiono por temporada y le establezo un secuencia, para luego quedarme con el puntaje mas alto de cada temporada, es decir, el campeon"
   ]
  },
  {
   "cell_type": "code",
   "execution_count": 9,
   "id": "86c812ee-6f28-4aa1-9469-bdcc7265b663",
   "metadata": {
    "tags": []
   },
   "outputs": [
    {
     "name": "stdout",
     "output_type": "stream",
     "text": [
      "+---------+-------------+------------+----------+\n",
      "|Temporada|        Local|puntajeTotal|row_number|\n",
      "+---------+-------------+------------+----------+\n",
      "|     2000|Bayern Munich|          63|         1|\n",
      "|     2000|   Schalke 04|          62|         2|\n",
      "|     2000|     Dortmund|          58|         3|\n",
      "|     2000|   Leverkusen|          57|         4|\n",
      "|     2000|       Hertha|          56|         5|\n",
      "+---------+-------------+------------+----------+\n",
      "only showing top 5 rows\n",
      "\n"
     ]
    }
   ],
   "source": [
    "windowSpec  = Window.partitionBy(\"Temporada\").orderBy(col(\"puntajeTotal\").desc())\n",
    "\n",
    "df_winners = df_join.withColumn(\"row_number\",row_number().over(windowSpec))\n",
    "\n",
    "df_winners.show(5)"
   ]
  },
  {
   "cell_type": "markdown",
   "id": "6bf325be-0d7f-40e0-9b62-39f38964a59e",
   "metadata": {},
   "source": [
    "### Obtengo el Campeon de cada temporada"
   ]
  },
  {
   "cell_type": "code",
   "execution_count": 16,
   "id": "f316135b-e896-4348-a2bd-09dc708a3b92",
   "metadata": {
    "tags": []
   },
   "outputs": [
    {
     "name": "stdout",
     "output_type": "stream",
     "text": [
      "+---------+-------------+------------+\n",
      "|Temporada|        Local|puntajeTotal|\n",
      "+---------+-------------+------------+\n",
      "|     2000|Bayern Munich|          63|\n",
      "|     2001|     Dortmund|          70|\n",
      "|     2002|Bayern Munich|          75|\n",
      "|     2003|Werder Bremen|          74|\n",
      "|     2004|Bayern Munich|          77|\n",
      "|     2005|Bayern Munich|          75|\n",
      "|     2006|    Stuttgart|          70|\n",
      "|     2007|Bayern Munich|          76|\n",
      "|     2008|    Wolfsburg|          69|\n",
      "|     2009|Bayern Munich|          70|\n",
      "|     2010|     Dortmund|          75|\n",
      "+---------+-------------+------------+\n",
      "\n"
     ]
    }
   ],
   "source": [
    "df_final = df_winners.filter(df_winners[\"row_number\"]==1).drop(\"row_number\")\n",
    "df_final.show()"
   ]
  },
  {
   "cell_type": "markdown",
   "id": "1b9a5dda-999a-41d3-ab4a-3e2fa5ea487e",
   "metadata": {},
   "source": [
    "### escribo csv con el resultado"
   ]
  },
  {
   "cell_type": "code",
   "execution_count": 19,
   "id": "bdf552be-6a5a-449a-91c1-a506d7fcb919",
   "metadata": {
    "tags": []
   },
   "outputs": [],
   "source": [
    "df_final.toPandas().to_csv(\"./Proyecto_Bundesliga/campeones_2000-2010.csv\",index=False)"
   ]
  }
 ],
 "metadata": {
  "kernelspec": {
   "display_name": "Python 3 (ipykernel)",
   "language": "python",
   "name": "python3"
  },
  "language_info": {
   "codemirror_mode": {
    "name": "ipython",
    "version": 3
   },
   "file_extension": ".py",
   "mimetype": "text/x-python",
   "name": "python",
   "nbconvert_exporter": "python",
   "pygments_lexer": "ipython3",
   "version": "3.10.9"
  }
 },
 "nbformat": 4,
 "nbformat_minor": 5
}
